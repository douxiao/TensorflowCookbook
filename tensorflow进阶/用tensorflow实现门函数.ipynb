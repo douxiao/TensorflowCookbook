{
 "cells": [
  {
   "cell_type": "code",
   "execution_count": 1,
   "metadata": {
    "collapsed": true
   },
   "outputs": [],
   "source": [
    "import tensorflow as tf\n",
    "sess = tf.Session()\n",
    "import matplotlib.pyplot as plt"
   ]
  },
  {
   "cell_type": "code",
   "execution_count": 2,
   "metadata": {},
   "outputs": [],
   "source": [
    "a = tf.Variable(tf.constant(4.))\n",
    "x_val = 5\n",
    "x_data = tf.placeholder(dtype=tf.float32)"
   ]
  },
  {
   "cell_type": "code",
   "execution_count": 3,
   "metadata": {},
   "outputs": [],
   "source": [
    "multiplication = tf.multiply(a, x_data)"
   ]
  },
  {
   "cell_type": "code",
   "execution_count": 4,
   "metadata": {},
   "outputs": [],
   "source": [
    "loss = tf.square(tf.subtract(multiplication, 50.))"
   ]
  },
  {
   "cell_type": "code",
   "execution_count": 5,
   "metadata": {},
   "outputs": [],
   "source": [
    "my_opt = tf.train.GradientDescentOptimizer(0.01)\n",
    "train_step = my_opt.minimize(loss)"
   ]
  },
  {
   "cell_type": "code",
   "execution_count": 6,
   "metadata": {},
   "outputs": [],
   "source": [
    "init = tf.global_variables_initializer()\n",
    "sess.run(init)"
   ]
  },
  {
   "cell_type": "code",
   "execution_count": 7,
   "metadata": {},
   "outputs": [
    {
     "name": "stdout",
     "output_type": "stream",
     "text": [
      "Optimizing a Multiplication Gate Output to 50.\n7.0*5 = 35.0\nloss = 225.0\n8.5*5 = 42.5\nloss = 56.25\n9.25*5 = 46.25\nloss = 14.0625\n9.625*5 = 48.125\nloss = 3.51562\n9.8125*5 = 49.0625\nloss = 0.878906\n9.90625*5 = 49.5312\nloss = 0.219727\n9.95312*5 = 49.7656\nloss = 0.0549316\n9.97656*5 = 49.8828\nloss = 0.0137329\n9.98828*5 = 49.9414\nloss = 0.00343323\n9.99414*5 = 49.9707\nloss = 0.000858307\n"
     ]
    }
   ],
   "source": [
    "print('Optimizing a Multiplication Gate Output to 50.')\n",
    "loss_gate = []  # 注意这里加上 loss_gate.append(loss_val)来在图表中绘制。\n",
    "for i in range(10):\n",
    "    sess.run(train_step, feed_dict={x_data: x_val})\n",
    "    a_val = sess.run(a)\n",
    "    loss_val = sess.run(loss, feed_dict={x_data: x_val})\n",
    "    mult_output = sess.run(multiplication, feed_dict={x_data: x_val})\n",
    "    if (i+1) % 1 == 0:\n",
    "        print(str(a_val) + '*' + str(x_val) + ' = ' + str(mult_output))\n",
    "        print('loss = ' + str(loss_val))\n",
    "        loss_gate.append(loss_val)"
   ]
  },
  {
   "cell_type": "code",
   "execution_count": 8,
   "metadata": {},
   "outputs": [
    {
     "data": {
      "image/png": "[encoded data removed]",
      "text/plain": [
       "<matplotlib.figure.Figure at 0x7f14141300f0>"
      ]
     },
     "metadata": {},
     "output_type": "display_data"
    }
   ],
   "source": [
    "plt.plot(range(0, 10, 1), loss_gate, 'r-')\n",
    "plt.show()"
   ]
  },
  {
   "cell_type": "code",
   "execution_count": null,
   "metadata": {},
   "outputs": [],
   "source": [
    ""
   ]
  }
 ],
 "metadata": {
  "kernelspec": {
   "display_name": "Python 2",
   "language": "python",
   "name": "python2"
  },
  "language_info": {
   "codemirror_mode": {
    "name": "ipython",
    "version": 2.0
   },
   "file_extension": ".py",
   "mimetype": "text/x-python",
   "name": "python",
   "nbconvert_exporter": "python",
   "pygments_lexer": "ipython2",
   "version": "2.7.6"
  }
 },
 "nbformat": 4,
 "nbformat_minor": 0
}